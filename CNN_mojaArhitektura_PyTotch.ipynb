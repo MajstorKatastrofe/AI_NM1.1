{
  "nbformat": 4,
  "nbformat_minor": 0,
  "metadata": {
    "colab": {
      "provenance": [],
      "authorship_tag": "ABX9TyODLa3jZ95YTdwBigzG1maW",
      "include_colab_link": true
    },
    "kernelspec": {
      "name": "python3",
      "display_name": "Python 3"
    },
    "language_info": {
      "name": "python"
    }
  },
  "cells": [
    {
      "cell_type": "markdown",
      "metadata": {
        "id": "view-in-github",
        "colab_type": "text"
      },
      "source": [
        "<a href=\"https://colab.research.google.com/github/MajstorKatastrofe/AI_NM1.1/blob/main/CNN_mojaArhitektura_PyTotch.ipynb\" target=\"_parent\"><img src=\"https://colab.research.google.com/assets/colab-badge.svg\" alt=\"Open In Colab\"/></a>"
      ]
    },
    {
      "cell_type": "code",
      "execution_count": null,
      "metadata": {
        "id": "YWmtA1-G5_SX"
      },
      "outputs": [],
      "source": [
        "import os\n",
        "import torch\n",
        "import torch.nn as nn\n",
        "import torch.optim as optim\n",
        "from torchvision import transforms\n",
        "from torch.utils.data import Dataset, DataLoader\n",
        "from PIL import Image"
      ]
    },
    {
      "cell_type": "code",
      "source": [
        "class CustomImageDataset(Dataset):\n",
        "    def __init__(self, img_dir, transform=None):\n",
        "        self.img_dir = img_dir\n",
        "        self.transform = transform\n",
        "        self.img_labels = self._get_image_paths_and_labels()\n",
        "\n",
        "    def _get_image_paths_and_labels(self):\n",
        "        img_labels = []\n",
        "        for root, dirs, files in os.walk(self.img_dir):\n",
        "            for file in files:\n",
        "                if file.endswith('.jpg') and 'models' not in root and '.ipynb_checkpoints' not in root:\n",
        "                    label = root.split('/')[-1]  # Pretpostavlja se da je ime foldera labela\n",
        "                    img_labels.append((os.path.join(root, file), label))\n",
        "        return img_labels\n",
        "\n",
        "    def __len__(self):\n",
        "        return len(self.img_labels)\n",
        "\n",
        "    def __getitem__(self, idx):\n",
        "        img_path, label = self.img_labels[idx]\n",
        "        image = Image.open(img_path).convert('RGB')\n",
        "        if self.transform:\n",
        "            image = self.transform(image)\n",
        "        return image, label"
      ],
      "metadata": {
        "id": "FaDpYvjf6IpZ"
      },
      "execution_count": null,
      "outputs": []
    },
    {
      "cell_type": "code",
      "source": [
        "transform = transforms.Compose([\n",
        "    transforms.Resize((128, 128)),\n",
        "    transforms.ToTensor(),\n",
        "    transforms.Normalize([0.485, 0.456, 0.406], [0.229, 0.224, 0.225])\n",
        "])"
      ],
      "metadata": {
        "id": "icd5guHJ6M5E"
      },
      "execution_count": null,
      "outputs": []
    },
    {
      "cell_type": "code",
      "source": [
        "from google.colab import drive\n",
        "drive.mount('/content/drive')"
      ],
      "metadata": {
        "colab": {
          "base_uri": "https://localhost:8080/"
        },
        "id": "Tbvlz5-D6eFX",
        "outputId": "eecdb19b-f2cd-42a4-cc9f-320383c6419a"
      },
      "execution_count": null,
      "outputs": [
        {
          "output_type": "stream",
          "name": "stdout",
          "text": [
            "Mounted at /content/drive\n"
          ]
        }
      ]
    },
    {
      "cell_type": "code",
      "source": [
        "dataset_path = 'C:\\Users\\pc\\Documents\\fashion-mnist-master\\data\\fashion'\n",
        "dataset = CustomImageDataset(img_dir=dataset_path, transform=transform)\n",
        "loader = DataLoader(dataset, batch_size=32, shuffle=True)\n"
      ],
      "metadata": {
        "id": "m7xZSJUv6Q25"
      },
      "execution_count": null,
      "outputs": []
    },
    {
      "cell_type": "code",
      "source": [
        "class MyCNN(nn.Module):\n",
        "    def __init__(self):\n",
        "        super(MyCNN, self).__init__()\n",
        "        self.conv1 = nn.Conv2d(3, 32, kernel_size=3, padding=1)\n",
        "        self.conv2 = nn.Conv2d(32, 64, kernel_size=3, padding=1)\n",
        "        self.fc1 = nn.Linear(64 * 32 * 32, 128)\n",
        "        self.fc2 = nn.Linear(128, 7)\n",
        "\n",
        "    def forward(self, x):\n",
        "        x = nn.functional.relu(self.conv1(x))\n",
        "        x = nn.functional.max_pool2d(x, 2)\n",
        "        x = nn.functional.relu(self.conv2(x))\n",
        "        x = nn.functional.max_pool2d(x, 2)\n",
        "        x = torch.flatten(x, 1)\n",
        "        x = nn.functional.relu(self.fc1(x))\n",
        "        x = self.fc2(x)\n",
        "        return x\n"
      ],
      "metadata": {
        "id": "d5Y7b0Wf73v1"
      },
      "execution_count": null,
      "outputs": []
    },
    {
      "cell_type": "code",
      "source": [
        "model = MyCNN()\n",
        "criterion = nn.CrossEntropyLoss()\n",
        "optimizer = optim.Adam(model.parameters(), lr=0.001)\n",
        "\n",
        "# Mapiranje tekstualnih labela u numeričke vrednosti\n",
        "label_to_index = {\n",
        "    'Do': 0, 'Re': 1, 'Mi': 2, 'Fa': 3, 'Sol': 4, 'La': 5, 'Si': 6\n",
        "}\n",
        "\n",
        "# Dodajte transformaciju labela u DataLoader loop\n",
        "for epoch in range(10):\n",
        "    for images, labels in loader:\n",
        "        labels = torch.tensor([label_to_index[label] for label in labels])  # Pretvaranje labela u tenzore\n",
        "        optimizer.zero_grad()\n",
        "        outputs = model(images)\n",
        "        loss = criterion(outputs, labels)\n",
        "        loss.backward()\n",
        "        optimizer.step()\n",
        "    print(f'Epoch {epoch+1}, Loss: {loss.item()}')\n"
      ],
      "metadata": {
        "colab": {
          "base_uri": "https://localhost:8080/"
        },
        "id": "M1eMEBSO783b",
        "outputId": "07b03794-64ad-4333-d00f-96f9c8331046"
      },
      "execution_count": null,
      "outputs": [
        {
          "output_type": "stream",
          "name": "stdout",
          "text": [
            "Epoch 1, Loss: 2.0309085845947266\n",
            "Epoch 2, Loss: 1.946516752243042\n",
            "Epoch 3, Loss: 1.955647349357605\n",
            "Epoch 4, Loss: 1.942591905593872\n",
            "Epoch 5, Loss: 1.926315188407898\n",
            "Epoch 6, Loss: 1.9334315061569214\n",
            "Epoch 7, Loss: 1.9579828977584839\n",
            "Epoch 8, Loss: 1.9013144969940186\n",
            "Epoch 9, Loss: 1.4928736686706543\n",
            "Epoch 10, Loss: 1.5094728469848633\n"
          ]
        }
      ]
    },
    {
      "cell_type": "code",
      "source": [
        "from PIL import Image\n",
        "import torchvision.transforms as transforms\n",
        "\n",
        "# Putanja do slike koju testiramo\n",
        "image_path = '/content/drive/MyDrive/NeuronskeMreze/Sol/sol15.jpg'\n",
        "\n",
        "# Transformacije koje treba primeniti na sliku\n",
        "transform = transforms.Compose([\n",
        "    transforms.Resize((128, 128)),  # Ista veličina kao za trening set\n",
        "    transforms.ToTensor(),\n",
        "    transforms.Normalize([0.485, 0.456, 0.406], [0.229, 0.224, 0.225])  # Iste normalizacione vrednosti\n",
        "])\n",
        "\n",
        "# Učitavanje i transformacija slike\n",
        "image = Image.open(image_path).convert('RGB')\n",
        "image = transform(image)\n",
        "image = image.unsqueeze(0)"
      ],
      "metadata": {
        "id": "5OHMKLP594bA"
      },
      "execution_count": null,
      "outputs": []
    },
    {
      "cell_type": "code",
      "source": [
        "model.eval()\n",
        "\n",
        "with torch.no_grad():  # Isključivanje izračunavanja gradijenta za predikciju\n",
        "    outputs = model(image)\n",
        "    _, predicted = torch.max(outputs, 1)  # Dobijamo indeks najvećeg izlaza\n",
        "\n",
        "# Mapiranje indeksa nazad u labele\n",
        "index_to_label = {v: k for k, v in label_to_index.items()}\n",
        "predicted_label = index_to_label[predicted.item()]\n",
        "\n",
        "print(f'Predikcija modela: {predicted_label}')"
      ],
      "metadata": {
        "colab": {
          "base_uri": "https://localhost:8080/"
        },
        "id": "zddEorff-UWu",
        "outputId": "3b0df7a4-6cb9-4a9c-cc14-5d813abca6b7"
      },
      "execution_count": null,
      "outputs": [
        {
          "output_type": "stream",
          "name": "stdout",
          "text": [
            "Predikcija modela: Mi\n"
          ]
        }
      ]
    },
    {
      "cell_type": "code",
      "source": [
        "#file_path = \"C:\\\\Users\\\\pc\\\\HuggFace\"\n",
        "\n",
        "file_path = \"model.pth\"\n",
        "torch.save(model.state_dict(), file_path)"
      ],
      "metadata": {
        "id": "NMeyvWi1X8yK"
      },
      "execution_count": null,
      "outputs": []
    },
    {
      "cell_type": "code",
      "source": [
        "current_directory = os.getcwd()\n",
        "print(\"Current working directory:\", current_directory)"
      ],
      "metadata": {
        "colab": {
          "base_uri": "https://localhost:8080/"
        },
        "id": "Sz5yGuOLZq3I",
        "outputId": "dc4e6abe-fbb2-4a92-c19b-55cb061d2329"
      },
      "execution_count": null,
      "outputs": [
        {
          "output_type": "stream",
          "name": "stdout",
          "text": [
            "Current working directory: /content\n"
          ]
        }
      ]
    },
    {
      "cell_type": "code",
      "source": [
        "# Get the current working directory\n",
        "current_directory = os.getcwd()\n",
        "\n",
        "# Construct the full path to the saved file\n",
        "file_path = os.path.join(current_directory, \"model.pth\")\n",
        "\n",
        "# Check if the file exists\n",
        "if os.path.exists(file_path):\n",
        "    print(\"File found at:\", file_path)\n",
        "else:\n",
        "    print(\"File not found.\")\n"
      ],
      "metadata": {
        "colab": {
          "base_uri": "https://localhost:8080/"
        },
        "id": "d2yio_c6aZoP",
        "outputId": "74fa277c-97fc-4054-ea31-c9b387af5817"
      },
      "execution_count": null,
      "outputs": [
        {
          "output_type": "stream",
          "name": "stdout",
          "text": [
            "File found at: /content/model.pth\n"
          ]
        }
      ]
    },
    {
      "cell_type": "code",
      "source": [
        "from google.colab import files\n",
        "\n",
        "# Specify the file path\n",
        "file_path = \"/content/model.pth\"\n",
        "\n",
        "# Download the file\n",
        "files.download(file_path)\n"
      ],
      "metadata": {
        "id": "3kC4-a-RaxUs",
        "outputId": "e5b102f2-1136-45b5-8ecc-a18568f24d16",
        "colab": {
          "base_uri": "https://localhost:8080/",
          "height": 34
        }
      },
      "execution_count": null,
      "outputs": [
        {
          "output_type": "display_data",
          "data": {
            "text/plain": [
              "<IPython.core.display.Javascript object>"
            ],
            "application/javascript": [
              "\n",
              "    async function download(id, filename, size) {\n",
              "      if (!google.colab.kernel.accessAllowed) {\n",
              "        return;\n",
              "      }\n",
              "      const div = document.createElement('div');\n",
              "      const label = document.createElement('label');\n",
              "      label.textContent = `Downloading \"${filename}\": `;\n",
              "      div.appendChild(label);\n",
              "      const progress = document.createElement('progress');\n",
              "      progress.max = size;\n",
              "      div.appendChild(progress);\n",
              "      document.body.appendChild(div);\n",
              "\n",
              "      const buffers = [];\n",
              "      let downloaded = 0;\n",
              "\n",
              "      const channel = await google.colab.kernel.comms.open(id);\n",
              "      // Send a message to notify the kernel that we're ready.\n",
              "      channel.send({})\n",
              "\n",
              "      for await (const message of channel.messages) {\n",
              "        // Send a message to notify the kernel that we're ready.\n",
              "        channel.send({})\n",
              "        if (message.buffers) {\n",
              "          for (const buffer of message.buffers) {\n",
              "            buffers.push(buffer);\n",
              "            downloaded += buffer.byteLength;\n",
              "            progress.value = downloaded;\n",
              "          }\n",
              "        }\n",
              "      }\n",
              "      const blob = new Blob(buffers, {type: 'application/binary'});\n",
              "      const a = document.createElement('a');\n",
              "      a.href = window.URL.createObjectURL(blob);\n",
              "      a.download = filename;\n",
              "      div.appendChild(a);\n",
              "      a.click();\n",
              "      div.remove();\n",
              "    }\n",
              "  "
            ]
          },
          "metadata": {}
        },
        {
          "output_type": "display_data",
          "data": {
            "text/plain": [
              "<IPython.core.display.Javascript object>"
            ],
            "application/javascript": [
              "download(\"download_e666131c-0a4e-4e6d-93aa-7ae39a5a4cdc\", \"model.pth\", 33638760)"
            ]
          },
          "metadata": {}
        }
      ]
    }
  ]
}